{
 "cells": [
  {
   "cell_type": "markdown",
   "id": "ab4815c4-01e0-4f87-acd1-c3038694f387",
   "metadata": {},
   "source": [
    "# Em qual horário mais notas são criadas?"
   ]
  },
  {
   "cell_type": "markdown",
   "id": "8d2f8c18-59f6-4154-9197-f78cb25a8b14",
   "metadata": {},
   "source": [
    "## Import das bibliotecas utilizadas"
   ]
  },
  {
   "cell_type": "code",
   "execution_count": 19,
   "id": "63e0dae0-8995-4592-aa89-1e4299d4c0a0",
   "metadata": {},
   "outputs": [],
   "source": [
    "import pandas as pd\n",
    "import getpass\n",
    "import pymysql\n",
    "import matplotlib.pyplot as plt\n",
    "import seaborn as sns\n",
    "import calendar"
   ]
  },
  {
   "cell_type": "markdown",
   "id": "c15cdfea-1742-4d00-a9cf-231ea609ca8a",
   "metadata": {},
   "source": [
    "## Conexão com o banco mysql"
   ]
  },
  {
   "cell_type": "code",
   "execution_count": 4,
   "id": "c05d85ef-07cb-4649-b922-66e54d845b66",
   "metadata": {},
   "outputs": [
    {
     "name": "stdin",
     "output_type": "stream",
     "text": [
      " ·······\n"
     ]
    }
   ],
   "source": [
    "password = getpass.getpass()\n",
    "\n",
    "database = 'notes_app'\n",
    "user = 'root'\n",
    "host='localhost'\n",
    "\n",
    "con = pymysql.connect(host=host, user=user, passwd=password, database=database)\n",
    "cur = con.cursor()\n",
    "con.autocommit(True)"
   ]
  },
  {
   "cell_type": "markdown",
   "id": "6b5defe5-1541-464a-afde-55ff65133448",
   "metadata": {},
   "source": [
    "## Leitura dos dados"
   ]
  },
  {
   "cell_type": "code",
   "execution_count": 5,
   "id": "c0756596-a773-4104-b8e2-cd1659a5b2ec",
   "metadata": {},
   "outputs": [],
   "source": [
    "nota = pd.read_sql(\"select * from nota \", con)\n",
    "disciplina = pd.read_sql(\"select * from disciplina\", con)"
   ]
  },
  {
   "cell_type": "code",
   "execution_count": 6,
   "id": "6063b632-b458-47e8-b355-780559e66d47",
   "metadata": {},
   "outputs": [
    {
     "data": {
      "text/html": [
       "<div>\n",
       "<style scoped>\n",
       "    .dataframe tbody tr th:only-of-type {\n",
       "        vertical-align: middle;\n",
       "    }\n",
       "\n",
       "    .dataframe tbody tr th {\n",
       "        vertical-align: top;\n",
       "    }\n",
       "\n",
       "    .dataframe thead th {\n",
       "        text-align: right;\n",
       "    }\n",
       "</style>\n",
       "<table border=\"1\" class=\"dataframe\">\n",
       "  <thead>\n",
       "    <tr style=\"text-align: right;\">\n",
       "      <th></th>\n",
       "      <th>id_nota</th>\n",
       "      <th>titulo</th>\n",
       "      <th>texto</th>\n",
       "      <th>ultima_modificacao</th>\n",
       "      <th>data_criacao</th>\n",
       "      <th>numero_edicoes</th>\n",
       "      <th>disciplina</th>\n",
       "    </tr>\n",
       "  </thead>\n",
       "  <tbody>\n",
       "    <tr>\n",
       "      <th>0</th>\n",
       "      <td>1</td>\n",
       "      <td>Matemática</td>\n",
       "      <td>A matemática (dos termos gregos μάθημα, transl...</td>\n",
       "      <td>2020-07-24 16:44:49</td>\n",
       "      <td>2021-06-16 08:46:10</td>\n",
       "      <td>13</td>\n",
       "      <td>1</td>\n",
       "    </tr>\n",
       "    <tr>\n",
       "      <th>1</th>\n",
       "      <td>2</td>\n",
       "      <td>Equação linear</td>\n",
       "      <td>Diz-se em matemática que uma equação polinomia...</td>\n",
       "      <td>2019-02-05 03:07:41</td>\n",
       "      <td>2020-03-13 08:14:38</td>\n",
       "      <td>10</td>\n",
       "      <td>1</td>\n",
       "    </tr>\n",
       "    <tr>\n",
       "      <th>2</th>\n",
       "      <td>3</td>\n",
       "      <td>Equação algébrica</td>\n",
       "      <td>Em matemática, equações algébricas são equaçõe...</td>\n",
       "      <td>2021-02-05 11:27:51</td>\n",
       "      <td>2021-08-13 04:38:18</td>\n",
       "      <td>6</td>\n",
       "      <td>1</td>\n",
       "    </tr>\n",
       "    <tr>\n",
       "      <th>3</th>\n",
       "      <td>4</td>\n",
       "      <td>Equação diferencial</td>\n",
       "      <td>Em matemática, uma equação diferencial é uma e...</td>\n",
       "      <td>2020-08-24 06:47:59</td>\n",
       "      <td>2021-04-16 20:57:31</td>\n",
       "      <td>21</td>\n",
       "      <td>1</td>\n",
       "    </tr>\n",
       "    <tr>\n",
       "      <th>4</th>\n",
       "      <td>5</td>\n",
       "      <td>Vetor (matemática)</td>\n",
       "      <td>Em geometria analítica, um vetor é uma classe ...</td>\n",
       "      <td>2020-12-13 14:35:00</td>\n",
       "      <td>2021-05-01 15:50:43</td>\n",
       "      <td>20</td>\n",
       "      <td>1</td>\n",
       "    </tr>\n",
       "  </tbody>\n",
       "</table>\n",
       "</div>"
      ],
      "text/plain": [
       "   id_nota               titulo  \\\n",
       "0        1           Matemática   \n",
       "1        2       Equação linear   \n",
       "2        3    Equação algébrica   \n",
       "3        4  Equação diferencial   \n",
       "4        5   Vetor (matemática)   \n",
       "\n",
       "                                               texto  ultima_modificacao  \\\n",
       "0  A matemática (dos termos gregos μάθημα, transl... 2020-07-24 16:44:49   \n",
       "1  Diz-se em matemática que uma equação polinomia... 2019-02-05 03:07:41   \n",
       "2  Em matemática, equações algébricas são equaçõe... 2021-02-05 11:27:51   \n",
       "3  Em matemática, uma equação diferencial é uma e... 2020-08-24 06:47:59   \n",
       "4  Em geometria analítica, um vetor é uma classe ... 2020-12-13 14:35:00   \n",
       "\n",
       "         data_criacao  numero_edicoes  disciplina  \n",
       "0 2021-06-16 08:46:10              13           1  \n",
       "1 2020-03-13 08:14:38              10           1  \n",
       "2 2021-08-13 04:38:18               6           1  \n",
       "3 2021-04-16 20:57:31              21           1  \n",
       "4 2021-05-01 15:50:43              20           1  "
      ]
     },
     "execution_count": 6,
     "metadata": {},
     "output_type": "execute_result"
    }
   ],
   "source": [
    "nota.head()"
   ]
  },
  {
   "cell_type": "code",
   "execution_count": 7,
   "id": "8f911761-9c25-4b24-912b-7a0d97f2600d",
   "metadata": {},
   "outputs": [
    {
     "data": {
      "text/html": [
       "<div>\n",
       "<style scoped>\n",
       "    .dataframe tbody tr th:only-of-type {\n",
       "        vertical-align: middle;\n",
       "    }\n",
       "\n",
       "    .dataframe tbody tr th {\n",
       "        vertical-align: top;\n",
       "    }\n",
       "\n",
       "    .dataframe thead th {\n",
       "        text-align: right;\n",
       "    }\n",
       "</style>\n",
       "<table border=\"1\" class=\"dataframe\">\n",
       "  <thead>\n",
       "    <tr style=\"text-align: right;\">\n",
       "      <th></th>\n",
       "      <th>id_disciplina</th>\n",
       "      <th>nome</th>\n",
       "      <th>periodo</th>\n",
       "    </tr>\n",
       "  </thead>\n",
       "  <tbody>\n",
       "    <tr>\n",
       "      <th>0</th>\n",
       "      <td>1</td>\n",
       "      <td>Algebra Linear</td>\n",
       "      <td>1</td>\n",
       "    </tr>\n",
       "    <tr>\n",
       "      <th>1</th>\n",
       "      <td>2</td>\n",
       "      <td>Biologia</td>\n",
       "      <td>7</td>\n",
       "    </tr>\n",
       "    <tr>\n",
       "      <th>2</th>\n",
       "      <td>3</td>\n",
       "      <td>Geografia</td>\n",
       "      <td>8</td>\n",
       "    </tr>\n",
       "    <tr>\n",
       "      <th>3</th>\n",
       "      <td>4</td>\n",
       "      <td>Língua Inglesa</td>\n",
       "      <td>1</td>\n",
       "    </tr>\n",
       "    <tr>\n",
       "      <th>4</th>\n",
       "      <td>5</td>\n",
       "      <td>Filosofia</td>\n",
       "      <td>4</td>\n",
       "    </tr>\n",
       "  </tbody>\n",
       "</table>\n",
       "</div>"
      ],
      "text/plain": [
       "   id_disciplina            nome  periodo\n",
       "0              1  Algebra Linear        1\n",
       "1              2        Biologia        7\n",
       "2              3       Geografia        8\n",
       "3              4  Língua Inglesa        1\n",
       "4              5       Filosofia        4"
      ]
     },
     "execution_count": 7,
     "metadata": {},
     "output_type": "execute_result"
    }
   ],
   "source": [
    "disciplina.head()"
   ]
  },
  {
   "cell_type": "markdown",
   "id": "e76939b3-006a-46ff-9147-dd5a8ca60bbc",
   "metadata": {},
   "source": [
    "## Agrupando os dados por hora"
   ]
  },
  {
   "cell_type": "code",
   "execution_count": 8,
   "id": "c20f8343-1200-4661-96ea-d075a2c374d4",
   "metadata": {},
   "outputs": [
    {
     "data": {
      "text/plain": [
       "0     13\n",
       "1      5\n",
       "2     12\n",
       "3      8\n",
       "4     12\n",
       "5      3\n",
       "6     10\n",
       "7      8\n",
       "8     12\n",
       "9      9\n",
       "10    11\n",
       "11    10\n",
       "12    10\n",
       "13     5\n",
       "14     5\n",
       "15    13\n",
       "16     8\n",
       "17     5\n",
       "18     3\n",
       "19     9\n",
       "20     9\n",
       "21    13\n",
       "22     8\n",
       "23     8\n",
       "Name: data_criacao, dtype: int64"
      ]
     },
     "execution_count": 8,
     "metadata": {},
     "output_type": "execute_result"
    }
   ],
   "source": [
    "hour_series = nota['data_criacao'].dt.hour\n",
    "hour_count = hour_series.value_counts(sort=False).sort_index()\n",
    "hour_count"
   ]
  },
  {
   "cell_type": "markdown",
   "id": "781cd15d-83d0-4360-8696-014d72e0c508",
   "metadata": {},
   "source": [
    "## Visualizando os dados"
   ]
  },
  {
   "cell_type": "code",
   "execution_count": 9,
   "id": "fdc6bbb3-4990-4384-b5f2-03d29997515d",
   "metadata": {},
   "outputs": [
    {
     "data": {
      "text/plain": [
       "<AxesSubplot:>"
      ]
     },
     "execution_count": 9,
     "metadata": {},
     "output_type": "execute_result"
    },
    {
     "data": {
      "image/png": "[encoded data removed]",
      "text/plain": [
       "<Figure size 720x720 with 1 Axes>"
      ]
     },
     "metadata": {},
     "output_type": "display_data"
    }
   ],
   "source": [
    "sns.set_theme(style=\"whitegrid\")\n",
    "fig, ax = plt.subplots(figsize=(10,10))\n",
    "sns.barplot(x=hour_count.index, y=hour_count.values, palette=\"ch:start=.2,rot=-.4\", ax=ax)"
   ]
  },
  {
   "cell_type": "markdown",
   "id": "33bad8a7-0594-4a72-93bb-e54cce2c5d07",
   "metadata": {},
   "source": [
    "Ou seja, podemos observar alguns picos de criação de notas nos intervalos entre 0 e 1 hora, 15 e 16 horas e 21 e 22 horas. Assim, poderiamos concluir que o acesso ao banco de dados nesses horários atingiria um pico, podendo então tomar medidas adequadas, apesar de esse não ser o dado mais aproriedado para tal.<br />\n",
    "Esses dados me trouxeram a curiosidade de analisar essas contagens para os dias da semana, o que será feito no próximo tópico, como um extra."
   ]
  },
  {
   "cell_type": "markdown",
   "id": "b2181998-2b47-459d-88b9-1626c5ecad6c",
   "metadata": {},
   "source": [
    "## Em qual dia da semana mais notas são criadas?"
   ]
  },
  {
   "cell_type": "markdown",
   "id": "99ad0882-966e-4927-a4a5-eb7eda53fa1c",
   "metadata": {},
   "source": [
    "Já fizemos a leitura de dados, então, podemos pular essa etapa."
   ]
  },
  {
   "cell_type": "markdown",
   "id": "48f844b2-a3ed-4b91-ac09-432326ce7f29",
   "metadata": {},
   "source": [
    "## Agrupando os dados por dia da semana"
   ]
  },
  {
   "cell_type": "code",
   "execution_count": 25,
   "id": "fa71a7bf-fd54-4e2b-9ea3-3b39567c89a5",
   "metadata": {},
   "outputs": [
    {
     "name": "stdout",
     "output_type": "stream",
     "text": [
      "Friday       38\n",
      "Monday       34\n",
      "Saturday     23\n",
      "Sunday       25\n",
      "Thursday     31\n",
      "Tuesday      25\n",
      "Wednesday    33\n",
      "Name: data_criacao, dtype: int64\n"
     ]
    }
   ],
   "source": [
    "hour_series = nota['data_criacao']\n",
    "day_series = hour_series.apply(lambda data: calendar.day_name[data.weekday()])\n",
    "day_count = day_series.value_counts(sort=False).sort_index()\n",
    "print(day_count)"
   ]
  },
  {
   "cell_type": "markdown",
   "id": "6d0c3bb3-e3e3-4bad-bf40-5a557c34fb0d",
   "metadata": {},
   "source": [
    "## Visualizando os dados"
   ]
  },
  {
   "cell_type": "code",
   "execution_count": 29,
   "id": "4775a4cc-e0d4-44ee-a130-563d1e0e85bb",
   "metadata": {},
   "outputs": [
    {
     "data": {
      "text/plain": [
       "<AxesSubplot:>"
      ]
     },
     "execution_count": 29,
     "metadata": {},
     "output_type": "execute_result"
    },
    {
     "data": {
      "image/png": "[encoded data removed]",
      "text/plain": [
       "<Figure size 720x720 with 1 Axes>"
      ]
     },
     "metadata": {},
     "output_type": "display_data"
    }
   ],
   "source": [
    "fig, ax = plt.subplots(figsize=(10,10))\n",
    "sns.barplot(x=day_count.index, y=day_count.values, palette=\"ch:start=.2,rot=-.4\", ax=ax)"
   ]
  },
  {
   "cell_type": "markdown",
   "id": "c5b81c1f-122f-4699-aa54-a117afb06976",
   "metadata": {},
   "source": [
    "Ou seja, podemos ver que sexta é o dia da semana em que mais notas são criadas."
   ]
  }
 ],
 "metadata": {
  "kernelspec": {
   "display_name": "Python 3 (ipykernel)",
   "language": "python",
   "name": "python3"
  },
  "language_info": {
   "codemirror_mode": {
    "name": "ipython",
    "version": 3
   },
   "file_extension": ".py",
   "mimetype": "text/x-python",
   "name": "python",
   "nbconvert_exporter": "python",
   "pygments_lexer": "ipython3",
   "version": "3.8.10"
  }
 },
 "nbformat": 4,
 "nbformat_minor": 5
}

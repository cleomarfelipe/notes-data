{
 "cells": [
  {
   "cell_type": "markdown",
   "id": "43c17393-0a06-4573-b645-bb1e8c904054",
   "metadata": {},
   "source": [
    "## Importando bibliotecas necessárias\n",
    "Para o devido funcionamento do código, deve-se executar a célula abaixo para que as bibliotecas utilizadas sejam importadas:"
   ]
  },
  {
   "cell_type": "code",
   "execution_count": 133,
   "id": "2831e708-a8e5-4148-b186-5060dcc44a5c",
   "metadata": {},
   "outputs": [],
   "source": [
    "import pandas as pd\n",
    "import pymysql\n",
    "import getpass\n",
    "import matplotlib.pyplot as plt"
   ]
  },
  {
   "cell_type": "markdown",
   "id": "6ac9d1ee-ec44-4fbb-8651-400cbe9568f3",
   "metadata": {},
   "source": [
    "## Realizando a conexão como MySQL\n",
    "Para efetuar a conexão com o MySQL e obter o banco de dados, foi utilizada a biblioteca Pymysql:"
   ]
  },
  {
   "cell_type": "code",
   "execution_count": 18,
   "id": "9a6c32fe-affc-4b7a-af29-b99df91dd615",
   "metadata": {},
   "outputs": [
    {
     "name": "stdin",
     "output_type": "stream",
     "text": [
      " ········\n"
     ]
    }
   ],
   "source": [
    "password = getpass.getpass()\n",
    "\n",
    "database = 'notes_app'\n",
    "user = 'root'\n",
    "host='localhost'\n",
    "\n",
    "con = pymysql.connect(host=host, user=user, passwd=password, db=database)\n",
    "cur = con.cursor()\n",
    "cur.execute('SELECT * FROM disciplina')\n",
    "con.autocommit(True)"
   ]
  },
  {
   "cell_type": "markdown",
   "id": "ca2d1683-d52c-4b9e-85bd-5b47b2d26ee4",
   "metadata": {},
   "source": [
    "## Criando os dataframes\n",
    "A partir do banco de dados, foi criado um dataframe para a entidade disciplina e outro para a entidade nota:"
   ]
  },
  {
   "cell_type": "code",
   "execution_count": 3,
   "id": "da0c9e51-da6d-4e6d-aeeb-89b6582cc602",
   "metadata": {},
   "outputs": [],
   "source": [
    "disciplina = pd.read_sql(\"SELECT * FROM disciplina\", con)\n",
    "nota = pd.read_sql(\"SELECT * FROM nota\", con)"
   ]
  },
  {
   "cell_type": "markdown",
   "id": "c84d5da7-3e90-4005-8a6b-10e372393e94",
   "metadata": {},
   "source": [
    "Como é mais viável possuir apenas um dataframe, foi feita a união dos dataframes criados anteriormente:"
   ]
  },
  {
   "cell_type": "code",
   "execution_count": 19,
   "id": "da0ca24f-17f7-447e-9a76-7fb0f6ef70d4",
   "metadata": {},
   "outputs": [
    {
     "data": {
      "text/html": [
       "<div>\n",
       "<style scoped>\n",
       "    .dataframe tbody tr th:only-of-type {\n",
       "        vertical-align: middle;\n",
       "    }\n",
       "\n",
       "    .dataframe tbody tr th {\n",
       "        vertical-align: top;\n",
       "    }\n",
       "\n",
       "    .dataframe thead th {\n",
       "        text-align: right;\n",
       "    }\n",
       "</style>\n",
       "<table border=\"1\" class=\"dataframe\">\n",
       "  <thead>\n",
       "    <tr style=\"text-align: right;\">\n",
       "      <th></th>\n",
       "      <th>id_nota</th>\n",
       "      <th>titulo</th>\n",
       "      <th>texto</th>\n",
       "      <th>ultima_modificacao</th>\n",
       "      <th>data_criacao</th>\n",
       "      <th>numero_edicoes</th>\n",
       "      <th>nome</th>\n",
       "      <th>periodo</th>\n",
       "    </tr>\n",
       "  </thead>\n",
       "  <tbody>\n",
       "    <tr>\n",
       "      <th>0</th>\n",
       "      <td>1</td>\n",
       "      <td>Matemática</td>\n",
       "      <td>A matemática (dos termos gregos μάθημα, transl...</td>\n",
       "      <td>2020-07-24 16:44:49</td>\n",
       "      <td>2021-06-16 08:46:10</td>\n",
       "      <td>13</td>\n",
       "      <td>Algebra Linear</td>\n",
       "      <td>1</td>\n",
       "    </tr>\n",
       "    <tr>\n",
       "      <th>1</th>\n",
       "      <td>2</td>\n",
       "      <td>Equação linear</td>\n",
       "      <td>Diz-se em matemática que uma equação polinomia...</td>\n",
       "      <td>2019-02-05 03:07:41</td>\n",
       "      <td>2020-03-13 08:14:38</td>\n",
       "      <td>10</td>\n",
       "      <td>Algebra Linear</td>\n",
       "      <td>1</td>\n",
       "    </tr>\n",
       "    <tr>\n",
       "      <th>2</th>\n",
       "      <td>3</td>\n",
       "      <td>Equação algébrica</td>\n",
       "      <td>Em matemática, equações algébricas são equaçõe...</td>\n",
       "      <td>2021-02-05 11:27:51</td>\n",
       "      <td>2021-08-13 04:38:18</td>\n",
       "      <td>6</td>\n",
       "      <td>Algebra Linear</td>\n",
       "      <td>1</td>\n",
       "    </tr>\n",
       "    <tr>\n",
       "      <th>3</th>\n",
       "      <td>4</td>\n",
       "      <td>Equação diferencial</td>\n",
       "      <td>Em matemática, uma equação diferencial é uma e...</td>\n",
       "      <td>2020-08-24 06:47:59</td>\n",
       "      <td>2021-04-16 20:57:31</td>\n",
       "      <td>21</td>\n",
       "      <td>Algebra Linear</td>\n",
       "      <td>1</td>\n",
       "    </tr>\n",
       "    <tr>\n",
       "      <th>4</th>\n",
       "      <td>5</td>\n",
       "      <td>Vetor (matemática)</td>\n",
       "      <td>Em geometria analítica, um vetor é uma classe ...</td>\n",
       "      <td>2020-12-13 14:35:00</td>\n",
       "      <td>2021-05-01 15:50:43</td>\n",
       "      <td>20</td>\n",
       "      <td>Algebra Linear</td>\n",
       "      <td>1</td>\n",
       "    </tr>\n",
       "  </tbody>\n",
       "</table>\n",
       "</div>"
      ],
      "text/plain": [
       "   id_nota               titulo  \\\n",
       "0        1           Matemática   \n",
       "1        2       Equação linear   \n",
       "2        3    Equação algébrica   \n",
       "3        4  Equação diferencial   \n",
       "4        5   Vetor (matemática)   \n",
       "\n",
       "                                               texto  ultima_modificacao  \\\n",
       "0  A matemática (dos termos gregos μάθημα, transl... 2020-07-24 16:44:49   \n",
       "1  Diz-se em matemática que uma equação polinomia... 2019-02-05 03:07:41   \n",
       "2  Em matemática, equações algébricas são equaçõe... 2021-02-05 11:27:51   \n",
       "3  Em matemática, uma equação diferencial é uma e... 2020-08-24 06:47:59   \n",
       "4  Em geometria analítica, um vetor é uma classe ... 2020-12-13 14:35:00   \n",
       "\n",
       "         data_criacao  numero_edicoes            nome  periodo  \n",
       "0 2021-06-16 08:46:10              13  Algebra Linear        1  \n",
       "1 2020-03-13 08:14:38              10  Algebra Linear        1  \n",
       "2 2021-08-13 04:38:18               6  Algebra Linear        1  \n",
       "3 2021-04-16 20:57:31              21  Algebra Linear        1  \n",
       "4 2021-05-01 15:50:43              20  Algebra Linear        1  "
      ]
     },
     "execution_count": 19,
     "metadata": {},
     "output_type": "execute_result"
    }
   ],
   "source": [
    "df = pd.merge(nota, disciplina, left_on='disciplina', right_on='id_disciplina', how='left').drop(['id_disciplina', 'disciplina'], axis=1)\n",
    "df.head()"
   ]
  },
  {
   "cell_type": "markdown",
   "id": "b570e69e-4ef3-40ec-ba2a-2fa9ab712efd",
   "metadata": {},
   "source": [
    "## Análise: quantidade de palavras por disciplina\n",
    "Observando as disciplinas individualmente, qual será a quantidade total de palavras levando em consideração todas as notas de cada uma?"
   ]
  },
  {
   "cell_type": "code",
   "execution_count": 124,
   "id": "f9a1571d-59f1-44ba-a4d7-00fa8ab75e56",
   "metadata": {},
   "outputs": [
    {
     "name": "stdout",
     "output_type": "stream",
     "text": [
      "nome\n",
      "Língua castelhana    10252\n",
      "Filosofia             7951\n",
      "Biologia              7526\n",
      "Língua Inglesa        7187\n",
      "Química               5523\n",
      "Algebra Linear        3560\n",
      "Geografia             3076\n"
     ]
    }
   ],
   "source": [
    "disciplinas_series = pd.Series(data=df['texto'])\n",
    "disciplinas_series.index = df['nome']\n",
    "disciplinas_palavras = disciplinas_series.str.split(expand=True).stack()\n",
    "palavras_por_disciplina = disciplinas_palavras.groupby('nome').count()\n",
    "quantidade_ordenada = palavras_por_disciplina.sort_values(ascending=False)\n",
    "print(quantidade_ordenada.to_string())"
   ]
  },
  {
   "cell_type": "markdown",
   "id": "b574a5b9-e669-49a5-a297-de78399368f8",
   "metadata": {},
   "source": [
    "Percebe-se então que Língua Castelhana é a disciplina com mais palavras (somando a quantidade de palavras de todas as notas), enquanto Geografia é a disciplina com menos palavras.\n",
    "Foi feito um gráfico de barras horizontais para melhor visualização:"
   ]
  },
  {
   "cell_type": "code",
   "execution_count": 145,
   "id": "e17851be-6242-400d-babf-f1f39a85d6bd",
   "metadata": {},
   "outputs": [
    {
     "data": {
      "image/png": "[encoded data removed]",
      "text/plain": [
       "<Figure size 432x288 with 1 Axes>"
      ]
     },
     "metadata": {
      "needs_background": "light"
     },
     "output_type": "display_data"
    }
   ],
   "source": [
    "plt.barh(quantidade_ordenada.index, quantidade_ordenada)\n",
    "plt.title('Quantidade de palavras por disciplina')\n",
    "plt.gca().invert_yaxis()"
   ]
  },
  {
   "cell_type": "markdown",
   "id": "63e92abc-56fd-451e-9014-af0b6c589668",
   "metadata": {},
   "source": [
    "Além disso, ainda nessa linha, foram filtradas as palavras mais recorrentes em cada disciplina (eliminando preposições, artigos e verbos genéricos) e a quantidade que aparecem:"
   ]
  },
  {
   "cell_type": "code",
   "execution_count": 129,
   "id": "2e9353e5-4362-445a-9640-c0b885fe0c35",
   "metadata": {
    "tags": []
   },
   "outputs": [
    {
     "name": "stdout",
     "output_type": "stream",
     "text": [
      "Algebra Linear -> geometria    18\n",
      "Biologia -> biologia    37\n",
      "Filosofia -> filosofia    31\n",
      "Geografia -> espaço    14\n",
      "Língua Inglesa -> línguas    45\n",
      "Língua castelhana -> país    112\n",
      "Química -> química    55\n"
     ]
    }
   ],
   "source": [
    "disciplinas_series = pd.Series(data=df['texto'])\n",
    "disciplinas_series.index = df['nome']\n",
    "disciplinas_palavras = disciplinas_series.str.split(expand=True).stack()\n",
    "d = disciplinas_palavras\n",
    "disciplinas_palavras = d[(d != 'de') & (d != 'e') & (d != 'a') & (d != 'da') & (d != 'o') & (d != 'que') & (d != 'é')\n",
    "                         & (d != 'como') & (d != 'do') & (d != 'um') & (d != 'em') & (d != 'uma') & (d != 'ou') & (d != 'com')\n",
    "                         & (d != 'os') & (d != 'para') & (d != 'A') & (d != 'por') & (d != 'na') & (d != 'as') & (d != 'mais')\n",
    "                         & (d != 'são') & (d != 'no') & (d != 'se') & (d != 'também') & (d != 'O') & (d != 'das') & (d != 'ao')\n",
    "                         & (d != 'e') & (d != 'foi') & (d != 'dos') & (d != 'não')]\n",
    "\n",
    "palavras_individuais = disciplinas_palavras.groupby('nome').value_counts()\n",
    "disciplinas = disciplinas_series.index.unique().sort_values()\n",
    "\n",
    "for index in range(0, len(disciplinas)):\n",
    "     print(disciplinas[index] + ' -> ' + palavras_individuais[disciplinas[index]].head(1).to_string())\n"
   ]
  },
  {
   "cell_type": "markdown",
   "id": "d55a5272-56ac-4d11-9dbe-e770bb13d043",
   "metadata": {},
   "source": [
    "É interessante perceber que as palavras mais recorrentes condizem a nome da disciplina (estão fortemente relacionados)."
   ]
  }
 ],
 "metadata": {
  "kernelspec": {
   "display_name": "a2lp",
   "language": "python",
   "name": "a2lp"
  },
  "language_info": {
   "codemirror_mode": {
    "name": "ipython",
    "version": 3
   },
   "file_extension": ".py",
   "mimetype": "text/x-python",
   "name": "python",
   "nbconvert_exporter": "python",
   "pygments_lexer": "ipython3",
   "version": "3.10.0"
  }
 },
 "nbformat": 4,
 "nbformat_minor": 5
}

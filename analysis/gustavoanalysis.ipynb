{
 "cells": [
  {
   "cell_type": "code",
   "execution_count": 5,
   "metadata": {},
   "outputs": [],
   "source": [
    "import pandas as pd\n",
    "import pymysql\n",
    "import mysql.connector\n",
    "import sqlalchemy\n",
    "from matplotlib import pyplot as plt\n",
    "import getpass"
   ]
  },
  {
   "cell_type": "markdown",
   "metadata": {},
   "source": [
    "### Conectando ao BD"
   ]
  },
  {
   "cell_type": "code",
   "execution_count": 9,
   "metadata": {},
   "outputs": [],
   "source": [
    "password = getpass.getpass()\n",
    "\n",
    "database = 'notes_app'\n",
    "user = 'root'\n",
    "host='localhost'\n",
    "\n",
    "con = pymysql.connect(host=host, user=user, passwd=password, db=database, charset='utf8mb4')\n",
    "cur = con.cursor()\n",
    "cur.execute('SELECT * FROM disciplina')\n",
    "con.autocommit(True)"
   ]
  },
  {
   "cell_type": "code",
   "execution_count": null,
   "metadata": {},
   "outputs": [],
   "source": [
    "disciplina = pd.read_sql(\"SELECT * FROM disciplina\", con)\n",
    "nota = pd.read_sql(\"SELECT * FROM nota\", con)\n"
   ]
  },
  {
   "cell_type": "markdown",
   "metadata": {},
   "source": [
    "### Aqui eu junto as duas tabelas em uma, para futuramente fazer a análise."
   ]
  },
  {
   "cell_type": "code",
   "execution_count": null,
   "metadata": {},
   "outputs": [
    {
     "data": {
      "text/html": [
       "<div>\n",
       "<style scoped>\n",
       "    .dataframe tbody tr th:only-of-type {\n",
       "        vertical-align: middle;\n",
       "    }\n",
       "\n",
       "    .dataframe tbody tr th {\n",
       "        vertical-align: top;\n",
       "    }\n",
       "\n",
       "    .dataframe thead th {\n",
       "        text-align: right;\n",
       "    }\n",
       "</style>\n",
       "<table border=\"1\" class=\"dataframe\">\n",
       "  <thead>\n",
       "    <tr style=\"text-align: right;\">\n",
       "      <th></th>\n",
       "      <th>id_nota</th>\n",
       "      <th>titulo</th>\n",
       "      <th>texto</th>\n",
       "      <th>ultima_modificacao</th>\n",
       "      <th>data_criacao</th>\n",
       "      <th>numero_edicoes</th>\n",
       "      <th>nome</th>\n",
       "      <th>periodo</th>\n",
       "    </tr>\n",
       "  </thead>\n",
       "  <tbody>\n",
       "    <tr>\n",
       "      <th>0</th>\n",
       "      <td>1</td>\n",
       "      <td>Matemática</td>\n",
       "      <td>A matemática (dos termos gregos μάθημα, transl...</td>\n",
       "      <td>2020-07-24 16:44:49</td>\n",
       "      <td>2021-06-16 08:46:10</td>\n",
       "      <td>13</td>\n",
       "      <td>Algebra Linear</td>\n",
       "      <td>1</td>\n",
       "    </tr>\n",
       "    <tr>\n",
       "      <th>1</th>\n",
       "      <td>2</td>\n",
       "      <td>Equação linear</td>\n",
       "      <td>Diz-se em matemática que uma equação polinomia...</td>\n",
       "      <td>2019-02-05 03:07:41</td>\n",
       "      <td>2020-03-13 08:14:38</td>\n",
       "      <td>10</td>\n",
       "      <td>Algebra Linear</td>\n",
       "      <td>1</td>\n",
       "    </tr>\n",
       "    <tr>\n",
       "      <th>2</th>\n",
       "      <td>3</td>\n",
       "      <td>Equação algébrica</td>\n",
       "      <td>Em matemática, equações algébricas são equaçõe...</td>\n",
       "      <td>2021-02-05 11:27:51</td>\n",
       "      <td>2021-08-13 04:38:18</td>\n",
       "      <td>6</td>\n",
       "      <td>Algebra Linear</td>\n",
       "      <td>1</td>\n",
       "    </tr>\n",
       "    <tr>\n",
       "      <th>3</th>\n",
       "      <td>4</td>\n",
       "      <td>Equação diferencial</td>\n",
       "      <td>Em matemática, uma equação diferencial é uma e...</td>\n",
       "      <td>2020-08-24 06:47:59</td>\n",
       "      <td>2021-04-16 20:57:31</td>\n",
       "      <td>21</td>\n",
       "      <td>Algebra Linear</td>\n",
       "      <td>1</td>\n",
       "    </tr>\n",
       "    <tr>\n",
       "      <th>4</th>\n",
       "      <td>5</td>\n",
       "      <td>Vetor (matemática)</td>\n",
       "      <td>Em geometria analítica, um vetor é uma classe ...</td>\n",
       "      <td>2020-12-13 14:35:00</td>\n",
       "      <td>2021-05-01 15:50:43</td>\n",
       "      <td>20</td>\n",
       "      <td>Algebra Linear</td>\n",
       "      <td>1</td>\n",
       "    </tr>\n",
       "    <tr>\n",
       "      <th>...</th>\n",
       "      <td>...</td>\n",
       "      <td>...</td>\n",
       "      <td>...</td>\n",
       "      <td>...</td>\n",
       "      <td>...</td>\n",
       "      <td>...</td>\n",
       "      <td>...</td>\n",
       "      <td>...</td>\n",
       "    </tr>\n",
       "    <tr>\n",
       "      <th>204</th>\n",
       "      <td>205</td>\n",
       "      <td>Roraima</td>\n",
       "      <td>Coordenadas: 2° 03' N 61° 24' O Roraima (pronú...</td>\n",
       "      <td>2020-07-24 00:35:20</td>\n",
       "      <td>2020-07-30 02:56:32</td>\n",
       "      <td>20</td>\n",
       "      <td>Língua castelhana</td>\n",
       "      <td>8</td>\n",
       "    </tr>\n",
       "    <tr>\n",
       "      <th>205</th>\n",
       "      <td>206</td>\n",
       "      <td>Estados Unidos</td>\n",
       "      <td>Estados Unidos da América (EUA; em inglês: Uni...</td>\n",
       "      <td>2019-05-05 14:19:07</td>\n",
       "      <td>2021-01-06 08:32:35</td>\n",
       "      <td>21</td>\n",
       "      <td>Língua castelhana</td>\n",
       "      <td>8</td>\n",
       "    </tr>\n",
       "    <tr>\n",
       "      <th>206</th>\n",
       "      <td>207</td>\n",
       "      <td>Belize</td>\n",
       "      <td>Coordenadas: 17° 15' N, 88° 45' W Belize (pron...</td>\n",
       "      <td>2021-04-16 16:38:18</td>\n",
       "      <td>2021-11-04 06:06:13</td>\n",
       "      <td>13</td>\n",
       "      <td>Língua castelhana</td>\n",
       "      <td>8</td>\n",
       "    </tr>\n",
       "    <tr>\n",
       "      <th>207</th>\n",
       "      <td>208</td>\n",
       "      <td>Gibraltar</td>\n",
       "      <td>Coordenadas: 36° 7' N 5° 21' O Gibraltar (pron...</td>\n",
       "      <td>2020-02-27 11:03:51</td>\n",
       "      <td>2021-02-09 20:32:08</td>\n",
       "      <td>17</td>\n",
       "      <td>Língua castelhana</td>\n",
       "      <td>8</td>\n",
       "    </tr>\n",
       "    <tr>\n",
       "      <th>208</th>\n",
       "      <td>209</td>\n",
       "      <td>Marrocos</td>\n",
       "      <td>Coordenadas: 30° 56' N 8° 24' O Marrocos (em á...</td>\n",
       "      <td>2021-01-01 06:47:26</td>\n",
       "      <td>2021-11-03 10:10:27</td>\n",
       "      <td>19</td>\n",
       "      <td>Língua castelhana</td>\n",
       "      <td>8</td>\n",
       "    </tr>\n",
       "  </tbody>\n",
       "</table>\n",
       "<p>209 rows × 8 columns</p>\n",
       "</div>"
      ],
      "text/plain": [
       "     id_nota               titulo  \\\n",
       "0          1           Matemática   \n",
       "1          2       Equação linear   \n",
       "2          3    Equação algébrica   \n",
       "3          4  Equação diferencial   \n",
       "4          5   Vetor (matemática)   \n",
       "..       ...                  ...   \n",
       "204      205              Roraima   \n",
       "205      206       Estados Unidos   \n",
       "206      207               Belize   \n",
       "207      208            Gibraltar   \n",
       "208      209             Marrocos   \n",
       "\n",
       "                                                 texto  ultima_modificacao  \\\n",
       "0    A matemática (dos termos gregos μάθημα, transl... 2020-07-24 16:44:49   \n",
       "1    Diz-se em matemática que uma equação polinomia... 2019-02-05 03:07:41   \n",
       "2    Em matemática, equações algébricas são equaçõe... 2021-02-05 11:27:51   \n",
       "3    Em matemática, uma equação diferencial é uma e... 2020-08-24 06:47:59   \n",
       "4    Em geometria analítica, um vetor é uma classe ... 2020-12-13 14:35:00   \n",
       "..                                                 ...                 ...   \n",
       "204  Coordenadas: 2° 03' N 61° 24' O Roraima (pronú... 2020-07-24 00:35:20   \n",
       "205  Estados Unidos da América (EUA; em inglês: Uni... 2019-05-05 14:19:07   \n",
       "206  Coordenadas: 17° 15' N, 88° 45' W Belize (pron... 2021-04-16 16:38:18   \n",
       "207  Coordenadas: 36° 7' N 5° 21' O Gibraltar (pron... 2020-02-27 11:03:51   \n",
       "208  Coordenadas: 30° 56' N 8° 24' O Marrocos (em á... 2021-01-01 06:47:26   \n",
       "\n",
       "           data_criacao  numero_edicoes               nome  periodo  \n",
       "0   2021-06-16 08:46:10              13     Algebra Linear        1  \n",
       "1   2020-03-13 08:14:38              10     Algebra Linear        1  \n",
       "2   2021-08-13 04:38:18               6     Algebra Linear        1  \n",
       "3   2021-04-16 20:57:31              21     Algebra Linear        1  \n",
       "4   2021-05-01 15:50:43              20     Algebra Linear        1  \n",
       "..                  ...             ...                ...      ...  \n",
       "204 2020-07-30 02:56:32              20  Língua castelhana        8  \n",
       "205 2021-01-06 08:32:35              21  Língua castelhana        8  \n",
       "206 2021-11-04 06:06:13              13  Língua castelhana        8  \n",
       "207 2021-02-09 20:32:08              17  Língua castelhana        8  \n",
       "208 2021-11-03 10:10:27              19  Língua castelhana        8  \n",
       "\n",
       "[209 rows x 8 columns]"
      ]
     },
     "execution_count": 17,
     "metadata": {},
     "output_type": "execute_result"
    }
   ],
   "source": [
    "df = pd.merge(nota, disciplina, left_on='disciplina', right_on='id_disciplina', how='left').drop(['id_disciplina', 'disciplina'], axis=1)\n",
    "\n",
    "df"
   ]
  },
  {
   "cell_type": "markdown",
   "metadata": {},
   "source": [
    "## Questão: Qual matéria teve a maior quantidade de anotações? E qual obteve a menor quantidade?\n",
    "\n",
    "### Nessa análise, procurarei buscar a quantidade de anotações que cada matéria obteve, a fim de compreender a necessidade de anotações em cada uma delas. É uma razão interessante, pois alguns conteúdos normalmente precisam de mais anotações devido ao volume de informações que possuem, o que implica em mais anotações de alunos. Já em outros, isso acontece de forma menor pois podem ter um conteúdo mais compacto ou mais simples de memorizar."
   ]
  },
  {
   "cell_type": "code",
   "execution_count": null,
   "metadata": {},
   "outputs": [
    {
     "name": "stdout",
     "output_type": "stream",
     "text": [
      "A quantidade de anotações na matéria de Algebra Linear é  22\n",
      "A quantidade de anotações na matéria de Biologia é  35\n",
      "A quantidade de anotações na matéria de Geografia é  14\n",
      "A quantidade de anotações na matéria de Lingua Inglesa é  34\n",
      "A quantidade de anotações na matéria de Filosofia é  36\n",
      "A quantidade de anotações na matéria de Química é  26\n",
      "A quantidade de anotações na matéria de Lingua Castelhana é  42\n"
     ]
    }
   ],
   "source": [
    "qntd_materias = df.nome.value_counts()\n",
    "al = qntd_materias['Algebra Linear']\n",
    "bio = qntd_materias['Biologia']\n",
    "geo = qntd_materias['Geografia']\n",
    "ing = qntd_materias['Língua Inglesa']\n",
    "filo = qntd_materias['Filosofia']\n",
    "quim = qntd_materias['Química']\n",
    "cast = qntd_materias['Língua castelhana']\n",
    "\n",
    "print('A quantidade de anotações na matéria de Algebra Linear é ', al)\n",
    "print('A quantidade de anotações na matéria de Biologia é ', bio)\n",
    "print('A quantidade de anotações na matéria de Geografia é ', geo)\n",
    "print('A quantidade de anotações na matéria de Lingua Inglesa é ', ing)\n",
    "print('A quantidade de anotações na matéria de Filosofia é ', filo)\n",
    "print('A quantidade de anotações na matéria de Química é ', quim)\n",
    "print('A quantidade de anotações na matéria de Lingua Castelhana é ', cast)"
   ]
  },
  {
   "cell_type": "code",
   "execution_count": null,
   "metadata": {},
   "outputs": [
    {
     "data": {
      "text/plain": [
       "<BarContainer object of 7 artists>"
      ]
     },
     "execution_count": 19,
     "metadata": {},
     "output_type": "execute_result"
    },
    {
     "data": {
      "image/png": "[encoded data removed]",
      "text/plain": [
       "<Figure size 720x720 with 1 Axes>"
      ]
     },
     "metadata": {
      "needs_background": "light"
     },
     "output_type": "display_data"
    }
   ],
   "source": [
    "plt.rcParams['figure.figsize'] = (10,10)\n",
    "\n",
    "plt.bar(x=qntd_materias.index.values, height=qntd_materias.values,\n",
    "        color=['green', 'purple'], edgecolor='black')"
   ]
  },
  {
   "cell_type": "markdown",
   "metadata": {},
   "source": [
    "## Foi possível notar que Lingua Castelhana possuiu mais anotações, enquanto Geografia obteve menos. Além da análise mostrando quantas anotações cada matéria teve, gerei também um gráfico que as coloca em ordem, para fins de melhor compreensão e ranqueamento delas."
   ]
  }
 ],
 "metadata": {
  "interpreter": {
   "hash": "ecb0bfb2b95fdec34bfe23aed9a2caced7e56eb1ecc7fa82c4b915c35dfc6e39"
  },
  "kernelspec": {
   "display_name": "Python 3.8.8 64-bit ('base': conda)",
   "language": "python",
   "name": "python3"
  },
  "language_info": {
   "codemirror_mode": {
    "name": "ipython",
    "version": 3
   },
   "file_extension": ".py",
   "mimetype": "text/x-python",
   "name": "python",
   "nbconvert_exporter": "python",
   "pygments_lexer": "ipython3",
   "version": "3.8.8"
  },
  "orig_nbformat": 4
 },
 "nbformat": 4,
 "nbformat_minor": 2
}

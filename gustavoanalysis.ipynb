{
 "cells": [
  {
   "cell_type": "code",
   "execution_count": 23,
   "metadata": {},
   "outputs": [],
   "source": [
    "import pandas as pd\n",
    "import pymysql\n",
    "import mysql.connector\n",
    "import sqlalchemy\n",
    "from matplotlib import pyplot as plt"
   ]
  },
  {
   "cell_type": "markdown",
   "metadata": {},
   "source": [
    "### Conectando ao BD"
   ]
  },
  {
   "cell_type": "code",
   "execution_count": 5,
   "metadata": {},
   "outputs": [],
   "source": [
    "password = 'ovatsugselirama1032'\n",
    "\n",
    "database = 'notes'\n",
    "user = 'root'\n",
    "host='localhost'\n",
    "\n",
    "con = pymysql.connect(host=host, user=user, passwd=password, db=database, charset='utf8mb4')\n",
    "cur = con.cursor()\n",
    "cur.execute('SELECT * FROM disciplina')\n",
    "con.autocommit(True)"
   ]
  },
  {
   "cell_type": "code",
   "execution_count": 7,
   "metadata": {},
   "outputs": [],
   "source": [
    "disciplina = pd.read_sql(\"SELECT * FROM disciplina\", con)\n",
    "nota = pd.read_sql(\"SELECT * FROM nota\", con)\n",
    "\n",
    "df = pd.merge(nota, disciplina, left_on='disciplina', right_on='id_disciplina', how='left').drop('id_disciplina', axis=1)"
   ]
  },
  {
   "cell_type": "markdown",
   "metadata": {},
   "source": [
    "### Aqui eu junto as duas tabelas em uma, para futuramente fazer a análise."
   ]
  },
  {
   "cell_type": "code",
   "execution_count": 15,
   "metadata": {},
   "outputs": [
    {
     "data": {
      "text/html": [
       "<div>\n",
       "<style scoped>\n",
       "    .dataframe tbody tr th:only-of-type {\n",
       "        vertical-align: middle;\n",
       "    }\n",
       "\n",
       "    .dataframe tbody tr th {\n",
       "        vertical-align: top;\n",
       "    }\n",
       "\n",
       "    .dataframe thead th {\n",
       "        text-align: right;\n",
       "    }\n",
       "</style>\n",
       "<table border=\"1\" class=\"dataframe\">\n",
       "  <thead>\n",
       "    <tr style=\"text-align: right;\">\n",
       "      <th></th>\n",
       "      <th>id_nota</th>\n",
       "      <th>titulo</th>\n",
       "      <th>texto</th>\n",
       "      <th>ultima_modificacao</th>\n",
       "      <th>data_criacao</th>\n",
       "      <th>nome</th>\n",
       "      <th>periodo</th>\n",
       "    </tr>\n",
       "  </thead>\n",
       "  <tbody>\n",
       "    <tr>\n",
       "      <th>0</th>\n",
       "      <td>1</td>\n",
       "      <td>Matemática</td>\n",
       "      <td>A matemática (dos termos gregos μάθημα, transl...</td>\n",
       "      <td>2019-09-19 03:16:16</td>\n",
       "      <td>2021-04-01 05:17:08</td>\n",
       "      <td>Algebra Linear</td>\n",
       "      <td>1</td>\n",
       "    </tr>\n",
       "    <tr>\n",
       "      <th>1</th>\n",
       "      <td>2</td>\n",
       "      <td>Equação linear</td>\n",
       "      <td>Diz-se em matemática que uma equação polinomia...</td>\n",
       "      <td>2021-03-10 05:15:12</td>\n",
       "      <td>2021-07-30 03:00:37</td>\n",
       "      <td>Algebra Linear</td>\n",
       "      <td>1</td>\n",
       "    </tr>\n",
       "    <tr>\n",
       "      <th>2</th>\n",
       "      <td>3</td>\n",
       "      <td>Equação algébrica</td>\n",
       "      <td>Em matemática, equações algébricas são equaçõe...</td>\n",
       "      <td>2019-01-20 14:50:25</td>\n",
       "      <td>2019-10-11 17:00:22</td>\n",
       "      <td>Algebra Linear</td>\n",
       "      <td>1</td>\n",
       "    </tr>\n",
       "    <tr>\n",
       "      <th>3</th>\n",
       "      <td>4</td>\n",
       "      <td>Equação diferencial</td>\n",
       "      <td>Em matemática, uma equação diferencial é uma e...</td>\n",
       "      <td>2020-02-22 23:58:08</td>\n",
       "      <td>2021-10-23 05:17:29</td>\n",
       "      <td>Algebra Linear</td>\n",
       "      <td>1</td>\n",
       "    </tr>\n",
       "    <tr>\n",
       "      <th>4</th>\n",
       "      <td>5</td>\n",
       "      <td>Vetor (matemática)</td>\n",
       "      <td>Em geometria analítica, um vetor é uma classe ...</td>\n",
       "      <td>2020-05-23 02:56:00</td>\n",
       "      <td>2021-01-23 00:18:44</td>\n",
       "      <td>Algebra Linear</td>\n",
       "      <td>1</td>\n",
       "    </tr>\n",
       "    <tr>\n",
       "      <th>...</th>\n",
       "      <td>...</td>\n",
       "      <td>...</td>\n",
       "      <td>...</td>\n",
       "      <td>...</td>\n",
       "      <td>...</td>\n",
       "      <td>...</td>\n",
       "      <td>...</td>\n",
       "    </tr>\n",
       "    <tr>\n",
       "      <th>1249</th>\n",
       "      <td>1250</td>\n",
       "      <td>Roraima</td>\n",
       "      <td>Coordenadas: 2° 03' N 61° 24' O Roraima (pronú...</td>\n",
       "      <td>2018-12-25 04:02:54</td>\n",
       "      <td>2020-05-17 09:58:53</td>\n",
       "      <td>Língua castelhana</td>\n",
       "      <td>0</td>\n",
       "    </tr>\n",
       "    <tr>\n",
       "      <th>1250</th>\n",
       "      <td>1251</td>\n",
       "      <td>Estados Unidos</td>\n",
       "      <td>Estados Unidos da América (EUA; em inglês: Uni...</td>\n",
       "      <td>2019-10-31 08:34:01</td>\n",
       "      <td>2020-04-23 16:07:10</td>\n",
       "      <td>Língua castelhana</td>\n",
       "      <td>0</td>\n",
       "    </tr>\n",
       "    <tr>\n",
       "      <th>1251</th>\n",
       "      <td>1252</td>\n",
       "      <td>Belize</td>\n",
       "      <td>Coordenadas: 17° 15' N, 88° 45' W Belize (pron...</td>\n",
       "      <td>2020-07-31 21:44:33</td>\n",
       "      <td>2021-02-01 00:09:01</td>\n",
       "      <td>Língua castelhana</td>\n",
       "      <td>0</td>\n",
       "    </tr>\n",
       "    <tr>\n",
       "      <th>1252</th>\n",
       "      <td>1253</td>\n",
       "      <td>Gibraltar</td>\n",
       "      <td>Coordenadas: 36° 7' N 5° 21' O Gibraltar (pron...</td>\n",
       "      <td>2020-03-09 01:17:21</td>\n",
       "      <td>2020-03-14 15:56:35</td>\n",
       "      <td>Língua castelhana</td>\n",
       "      <td>0</td>\n",
       "    </tr>\n",
       "    <tr>\n",
       "      <th>1253</th>\n",
       "      <td>1254</td>\n",
       "      <td>Marrocos</td>\n",
       "      <td>Coordenadas: 30° 56' N 8° 24' O Marrocos (em á...</td>\n",
       "      <td>2018-12-05 08:16:00</td>\n",
       "      <td>2019-12-28 03:30:16</td>\n",
       "      <td>Língua castelhana</td>\n",
       "      <td>0</td>\n",
       "    </tr>\n",
       "  </tbody>\n",
       "</table>\n",
       "<p>1254 rows × 7 columns</p>\n",
       "</div>"
      ],
      "text/plain": [
       "      id_nota               titulo  \\\n",
       "0           1           Matemática   \n",
       "1           2       Equação linear   \n",
       "2           3    Equação algébrica   \n",
       "3           4  Equação diferencial   \n",
       "4           5   Vetor (matemática)   \n",
       "...       ...                  ...   \n",
       "1249     1250              Roraima   \n",
       "1250     1251       Estados Unidos   \n",
       "1251     1252               Belize   \n",
       "1252     1253            Gibraltar   \n",
       "1253     1254             Marrocos   \n",
       "\n",
       "                                                  texto  ultima_modificacao  \\\n",
       "0     A matemática (dos termos gregos μάθημα, transl... 2019-09-19 03:16:16   \n",
       "1     Diz-se em matemática que uma equação polinomia... 2021-03-10 05:15:12   \n",
       "2     Em matemática, equações algébricas são equaçõe... 2019-01-20 14:50:25   \n",
       "3     Em matemática, uma equação diferencial é uma e... 2020-02-22 23:58:08   \n",
       "4     Em geometria analítica, um vetor é uma classe ... 2020-05-23 02:56:00   \n",
       "...                                                 ...                 ...   \n",
       "1249  Coordenadas: 2° 03' N 61° 24' O Roraima (pronú... 2018-12-25 04:02:54   \n",
       "1250  Estados Unidos da América (EUA; em inglês: Uni... 2019-10-31 08:34:01   \n",
       "1251  Coordenadas: 17° 15' N, 88° 45' W Belize (pron... 2020-07-31 21:44:33   \n",
       "1252  Coordenadas: 36° 7' N 5° 21' O Gibraltar (pron... 2020-03-09 01:17:21   \n",
       "1253  Coordenadas: 30° 56' N 8° 24' O Marrocos (em á... 2018-12-05 08:16:00   \n",
       "\n",
       "            data_criacao               nome  periodo  \n",
       "0    2021-04-01 05:17:08     Algebra Linear        1  \n",
       "1    2021-07-30 03:00:37     Algebra Linear        1  \n",
       "2    2019-10-11 17:00:22     Algebra Linear        1  \n",
       "3    2021-10-23 05:17:29     Algebra Linear        1  \n",
       "4    2021-01-23 00:18:44     Algebra Linear        1  \n",
       "...                  ...                ...      ...  \n",
       "1249 2020-05-17 09:58:53  Língua castelhana        0  \n",
       "1250 2020-04-23 16:07:10  Língua castelhana        0  \n",
       "1251 2021-02-01 00:09:01  Língua castelhana        0  \n",
       "1252 2020-03-14 15:56:35  Língua castelhana        0  \n",
       "1253 2019-12-28 03:30:16  Língua castelhana        0  \n",
       "\n",
       "[1254 rows x 7 columns]"
      ]
     },
     "execution_count": 15,
     "metadata": {},
     "output_type": "execute_result"
    }
   ],
   "source": [
    "df = pd.merge(nota, disciplina, left_on='disciplina', right_on='id_disciplina', how='left').drop(['id_disciplina', 'disciplina'], axis=1)\n",
    "\n",
    "df"
   ]
  },
  {
   "cell_type": "markdown",
   "metadata": {},
   "source": [
    "## Questão: Qual matéria teve a maior quantidade de anotações? E qual obteve a menor quantidade?\n",
    "\n",
    "### Nessa análise, procurarei buscar a quantidade de anotações que cada matéria obteve, a fim de compreender a necessidade de anotações em cada uma delas. É uma razão interessante, pois alguns conteúdos normalmente precisam de mais anotações devido ao volume de informações que possuem, o que implica em mais anotações de alunos. Já em outros, isso acontece de forma menor pois podem ter um conteúdo mais compacto ou mais simples de memorizar."
   ]
  },
  {
   "cell_type": "code",
   "execution_count": 21,
   "metadata": {},
   "outputs": [
    {
     "name": "stdout",
     "output_type": "stream",
     "text": [
      "A quantidade de anotações na matéria de Algebra Linear é  132\n",
      "A quantidade de anotações na matéria de Biologia é  210\n",
      "A quantidade de anotações na matéria de Geografia é  84\n",
      "A quantidade de anotações na matéria de Lingua Inglesa é  204\n",
      "A quantidade de anotações na matéria de Filosofia é  216\n",
      "A quantidade de anotações na matéria de Química é  156\n",
      "A quantidade de anotações na matéria de Lingua Castelhana é  252\n"
     ]
    }
   ],
   "source": [
    "qntd_materias = df.nome.value_counts()\n",
    "al = qntd_materias['Algebra Linear']\n",
    "bio = qntd_materias['Biologia']\n",
    "geo = qntd_materias['Geografia']\n",
    "ing = qntd_materias['Língua Inglesa']\n",
    "filo = qntd_materias['Filosofia']\n",
    "quim = qntd_materias['Química']\n",
    "cast = qntd_materias['Língua castelhana']\n",
    "\n",
    "print('A quantidade de anotações na matéria de Algebra Linear é ', al)\n",
    "print('A quantidade de anotações na matéria de Biologia é ', bio)\n",
    "print('A quantidade de anotações na matéria de Geografia é ', geo)\n",
    "print('A quantidade de anotações na matéria de Lingua Inglesa é ', ing)\n",
    "print('A quantidade de anotações na matéria de Filosofia é ', filo)\n",
    "print('A quantidade de anotações na matéria de Química é ', quim)\n",
    "print('A quantidade de anotações na matéria de Lingua Castelhana é ', cast)"
   ]
  },
  {
   "cell_type": "markdown",
   "metadata": {},
   "source": [
    "Aqui ja foi possível ver que a matéria de Lingua Castelhana teve mais anotações, enquanto "
   ]
  },
  {
   "cell_type": "code",
   "execution_count": 29,
   "metadata": {},
   "outputs": [
    {
     "data": {
      "text/plain": [
       "<BarContainer object of 7 artists>"
      ]
     },
     "execution_count": 29,
     "metadata": {},
     "output_type": "execute_result"
    },
    {
     "data": {
      "image/png": "[encoded data removed]",
      "text/plain": [
       "<Figure size 720x720 with 1 Axes>"
      ]
     },
     "metadata": {
      "needs_background": "light"
     },
     "output_type": "display_data"
    }
   ],
   "source": [
    "plt.rcParams['figure.figsize'] = (10,10)\n",
    "\n",
    "plt.bar(x=qntd_materias.index.values, height=qntd_materias.values,\n",
    "        color=['green', 'purple'], edgecolor='black')"
   ]
  }
 ],
 "metadata": {
  "interpreter": {
   "hash": "ecb0bfb2b95fdec34bfe23aed9a2caced7e56eb1ecc7fa82c4b915c35dfc6e39"
  },
  "kernelspec": {
   "display_name": "Python 3.8.8 64-bit ('base': conda)",
   "language": "python",
   "name": "python3"
  },
  "language_info": {
   "codemirror_mode": {
    "name": "ipython",
    "version": 3
   },
   "file_extension": ".py",
   "mimetype": "text/x-python",
   "name": "python",
   "nbconvert_exporter": "python",
   "pygments_lexer": "ipython3",
   "version": "3.8.8"
  },
  "orig_nbformat": 4
 },
 "nbformat": 4,
 "nbformat_minor": 2
}

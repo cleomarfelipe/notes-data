{
 "cells": [
  {
   "cell_type": "code",
   "execution_count": 1,
   "metadata": {},
   "outputs": [],
   "source": [
    "import pandas as pd\n",
    "import pymysql\n",
    "import mysql.connector\n",
    "import sqlalchemy\n",
    "from matplotlib import pyplot as plt\n",
    "import getpass"
   ]
  },
  {
   "cell_type": "markdown",
   "metadata": {},
   "source": [
    "## Conectando ao DB"
   ]
  },
  {
   "cell_type": "code",
   "execution_count": 2,
   "metadata": {},
   "outputs": [],
   "source": [
    "password = getpass.getpass()\n",
    "\n",
    "database = 'notes_app'\n",
    "user = 'root'\n",
    "host='localhost'\n",
    "\n",
    "con = pymysql.connect(host=host, user=user, passwd=password, db=database, charset='utf8mb4')\n",
    "cur = con.cursor()\n",
    "cur.execute('SELECT * FROM disciplina')\n",
    "con.autocommit(True)"
   ]
  },
  {
   "cell_type": "markdown",
   "metadata": {},
   "source": [
    "## Lendo as tabelas. Nessa análise, usarei apenas a tabela \"nota\"."
   ]
  },
  {
   "cell_type": "code",
   "execution_count": 3,
   "metadata": {},
   "outputs": [],
   "source": [
    "disciplina = pd.read_sql(\"SELECT * FROM disciplina\", con)\n",
    "nota = pd.read_sql(\"SELECT * FROM nota\", con)\n"
   ]
  },
  {
   "cell_type": "code",
   "execution_count": 4,
   "metadata": {},
   "outputs": [
    {
     "data": {
      "text/html": [
       "<div>\n",
       "<style scoped>\n",
       "    .dataframe tbody tr th:only-of-type {\n",
       "        vertical-align: middle;\n",
       "    }\n",
       "\n",
       "    .dataframe tbody tr th {\n",
       "        vertical-align: top;\n",
       "    }\n",
       "\n",
       "    .dataframe thead th {\n",
       "        text-align: right;\n",
       "    }\n",
       "</style>\n",
       "<table border=\"1\" class=\"dataframe\">\n",
       "  <thead>\n",
       "    <tr style=\"text-align: right;\">\n",
       "      <th></th>\n",
       "      <th>id_nota</th>\n",
       "      <th>titulo</th>\n",
       "      <th>texto</th>\n",
       "      <th>ultima_modificacao</th>\n",
       "      <th>data_criacao</th>\n",
       "      <th>numero_edicoes</th>\n",
       "      <th>disciplina</th>\n",
       "    </tr>\n",
       "  </thead>\n",
       "  <tbody>\n",
       "    <tr>\n",
       "      <th>0</th>\n",
       "      <td>1</td>\n",
       "      <td>Matemática</td>\n",
       "      <td>A matemática (dos termos gregos μάθημα, transl...</td>\n",
       "      <td>2020-07-24 16:44:49</td>\n",
       "      <td>2021-06-16 08:46:10</td>\n",
       "      <td>13</td>\n",
       "      <td>1</td>\n",
       "    </tr>\n",
       "    <tr>\n",
       "      <th>1</th>\n",
       "      <td>2</td>\n",
       "      <td>Equação linear</td>\n",
       "      <td>Diz-se em matemática que uma equação polinomia...</td>\n",
       "      <td>2019-02-05 03:07:41</td>\n",
       "      <td>2020-03-13 08:14:38</td>\n",
       "      <td>10</td>\n",
       "      <td>1</td>\n",
       "    </tr>\n",
       "    <tr>\n",
       "      <th>2</th>\n",
       "      <td>3</td>\n",
       "      <td>Equação algébrica</td>\n",
       "      <td>Em matemática, equações algébricas são equaçõe...</td>\n",
       "      <td>2021-02-05 11:27:51</td>\n",
       "      <td>2021-08-13 04:38:18</td>\n",
       "      <td>6</td>\n",
       "      <td>1</td>\n",
       "    </tr>\n",
       "    <tr>\n",
       "      <th>3</th>\n",
       "      <td>4</td>\n",
       "      <td>Equação diferencial</td>\n",
       "      <td>Em matemática, uma equação diferencial é uma e...</td>\n",
       "      <td>2020-08-24 06:47:59</td>\n",
       "      <td>2021-04-16 20:57:31</td>\n",
       "      <td>21</td>\n",
       "      <td>1</td>\n",
       "    </tr>\n",
       "    <tr>\n",
       "      <th>4</th>\n",
       "      <td>5</td>\n",
       "      <td>Vetor (matemática)</td>\n",
       "      <td>Em geometria analítica, um vetor é uma classe ...</td>\n",
       "      <td>2020-12-13 14:35:00</td>\n",
       "      <td>2021-05-01 15:50:43</td>\n",
       "      <td>20</td>\n",
       "      <td>1</td>\n",
       "    </tr>\n",
       "    <tr>\n",
       "      <th>...</th>\n",
       "      <td>...</td>\n",
       "      <td>...</td>\n",
       "      <td>...</td>\n",
       "      <td>...</td>\n",
       "      <td>...</td>\n",
       "      <td>...</td>\n",
       "      <td>...</td>\n",
       "    </tr>\n",
       "    <tr>\n",
       "      <th>204</th>\n",
       "      <td>205</td>\n",
       "      <td>Roraima</td>\n",
       "      <td>Coordenadas: 2° 03' N 61° 24' O Roraima (pronú...</td>\n",
       "      <td>2020-07-24 00:35:20</td>\n",
       "      <td>2020-07-30 02:56:32</td>\n",
       "      <td>20</td>\n",
       "      <td>7</td>\n",
       "    </tr>\n",
       "    <tr>\n",
       "      <th>205</th>\n",
       "      <td>206</td>\n",
       "      <td>Estados Unidos</td>\n",
       "      <td>Estados Unidos da América (EUA; em inglês: Uni...</td>\n",
       "      <td>2019-05-05 14:19:07</td>\n",
       "      <td>2021-01-06 08:32:35</td>\n",
       "      <td>21</td>\n",
       "      <td>7</td>\n",
       "    </tr>\n",
       "    <tr>\n",
       "      <th>206</th>\n",
       "      <td>207</td>\n",
       "      <td>Belize</td>\n",
       "      <td>Coordenadas: 17° 15' N, 88° 45' W Belize (pron...</td>\n",
       "      <td>2021-04-16 16:38:18</td>\n",
       "      <td>2021-11-04 06:06:13</td>\n",
       "      <td>13</td>\n",
       "      <td>7</td>\n",
       "    </tr>\n",
       "    <tr>\n",
       "      <th>207</th>\n",
       "      <td>208</td>\n",
       "      <td>Gibraltar</td>\n",
       "      <td>Coordenadas: 36° 7' N 5° 21' O Gibraltar (pron...</td>\n",
       "      <td>2020-02-27 11:03:51</td>\n",
       "      <td>2021-02-09 20:32:08</td>\n",
       "      <td>17</td>\n",
       "      <td>7</td>\n",
       "    </tr>\n",
       "    <tr>\n",
       "      <th>208</th>\n",
       "      <td>209</td>\n",
       "      <td>Marrocos</td>\n",
       "      <td>Coordenadas: 30° 56' N 8° 24' O Marrocos (em á...</td>\n",
       "      <td>2021-01-01 06:47:26</td>\n",
       "      <td>2021-11-03 10:10:27</td>\n",
       "      <td>19</td>\n",
       "      <td>7</td>\n",
       "    </tr>\n",
       "  </tbody>\n",
       "</table>\n",
       "<p>209 rows × 7 columns</p>\n",
       "</div>"
      ],
      "text/plain": [
       "     id_nota               titulo  \\\n",
       "0          1           Matemática   \n",
       "1          2       Equação linear   \n",
       "2          3    Equação algébrica   \n",
       "3          4  Equação diferencial   \n",
       "4          5   Vetor (matemática)   \n",
       "..       ...                  ...   \n",
       "204      205              Roraima   \n",
       "205      206       Estados Unidos   \n",
       "206      207               Belize   \n",
       "207      208            Gibraltar   \n",
       "208      209             Marrocos   \n",
       "\n",
       "                                                 texto  ultima_modificacao  \\\n",
       "0    A matemática (dos termos gregos μάθημα, transl... 2020-07-24 16:44:49   \n",
       "1    Diz-se em matemática que uma equação polinomia... 2019-02-05 03:07:41   \n",
       "2    Em matemática, equações algébricas são equaçõe... 2021-02-05 11:27:51   \n",
       "3    Em matemática, uma equação diferencial é uma e... 2020-08-24 06:47:59   \n",
       "4    Em geometria analítica, um vetor é uma classe ... 2020-12-13 14:35:00   \n",
       "..                                                 ...                 ...   \n",
       "204  Coordenadas: 2° 03' N 61° 24' O Roraima (pronú... 2020-07-24 00:35:20   \n",
       "205  Estados Unidos da América (EUA; em inglês: Uni... 2019-05-05 14:19:07   \n",
       "206  Coordenadas: 17° 15' N, 88° 45' W Belize (pron... 2021-04-16 16:38:18   \n",
       "207  Coordenadas: 36° 7' N 5° 21' O Gibraltar (pron... 2020-02-27 11:03:51   \n",
       "208  Coordenadas: 30° 56' N 8° 24' O Marrocos (em á... 2021-01-01 06:47:26   \n",
       "\n",
       "           data_criacao  numero_edicoes  disciplina  \n",
       "0   2021-06-16 08:46:10              13           1  \n",
       "1   2020-03-13 08:14:38              10           1  \n",
       "2   2021-08-13 04:38:18               6           1  \n",
       "3   2021-04-16 20:57:31              21           1  \n",
       "4   2021-05-01 15:50:43              20           1  \n",
       "..                  ...             ...         ...  \n",
       "204 2020-07-30 02:56:32              20           7  \n",
       "205 2021-01-06 08:32:35              21           7  \n",
       "206 2021-11-04 06:06:13              13           7  \n",
       "207 2021-02-09 20:32:08              17           7  \n",
       "208 2021-11-03 10:10:27              19           7  \n",
       "\n",
       "[209 rows x 7 columns]"
      ]
     },
     "execution_count": 4,
     "metadata": {},
     "output_type": "execute_result"
    }
   ],
   "source": [
    "nota\n"
   ]
  },
  {
   "cell_type": "markdown",
   "metadata": {},
   "source": [
    "## Em relação ao número de edições, as quantidades em cada matéria tendem a ter valores com tendência parecida ou diferente?\n",
    "### Essa questão pode ser útil principalmente para termos ideia de dados estatísticos das edições dos alunos. Podemos saber se as edições têm uma tendência a ter números semelhantes ou é algo que tende a não seguir um padrão. Para isso, é necessário encontrar o desvio padrão, além de olharmos outros dados para o caso de existir um outlier que possa comprometer a análise.\n"
   ]
  },
  {
   "cell_type": "code",
   "execution_count": 5,
   "metadata": {},
   "outputs": [
    {
     "name": "stdout",
     "output_type": "stream",
     "text": [
      "A média de edições de todas as anotações foi 14.15311004784689\n",
      "O desvio padrão tem o valor de 5.017805066455521\n",
      "O menor número de edições entre todos os documentos foi 5\n",
      "E o maior número de edições foi 22\n"
     ]
    }
   ],
   "source": [
    "mean = nota['numero_edicoes'].mean()\n",
    "std = nota['numero_edicoes'].std()\n",
    "min = nota['numero_edicoes'].min()\n",
    "max = nota['numero_edicoes'].max()\n",
    "print('A média de edições de todas as anotações foi',mean)\n",
    "print('O desvio padrão tem o valor de',std)\n",
    "print('O menor número de edições entre todos os documentos foi', min)\n",
    "print('E o maior número de edições foi',max)"
   ]
  },
  {
   "cell_type": "code",
   "execution_count": 6,
   "metadata": {},
   "outputs": [
    {
     "data": {
      "text/plain": [
       "<AxesSubplot:>"
      ]
     },
     "execution_count": 6,
     "metadata": {},
     "output_type": "execute_result"
    },
    {
     "data": {
      "image/png": "[encoded data removed]",
      "text/plain": [
       "<Figure size 720x720 with 1 Axes>"
      ]
     },
     "metadata": {
      "needs_background": "light"
     },
     "output_type": "display_data"
    }
   ],
   "source": [
    "plt.rcParams['figure.figsize'] = (10,10)\n",
    "\n",
    "nota.boxplot(column=['numero_edicoes'], patch_artist=True,\n",
    "                   boxprops=dict(facecolor='yellow', color='black'),\n",
    "                   capprops=dict(color='gray'),\n",
    "                   whiskerprops=dict(color='gray'),\n",
    "                   flierprops=dict(color='gray', markeredgecolor='gray'),\n",
    "                   medianprops=dict(color='black'))"
   ]
  },
  {
   "cell_type": "markdown",
   "metadata": {},
   "source": [
    "### Também coloquei um boxplot para retratar os dados informados como imagem. Podemos conferir que não houve nenhum outlier e o desvio padrão foi baixo, identificando que, nessa situação, a quantidade de atualização de notas dos usuários tendem a permanecer em uma faixa concentrada de números."
   ]
  }
 ],
 "metadata": {
  "interpreter": {
   "hash": "ecb0bfb2b95fdec34bfe23aed9a2caced7e56eb1ecc7fa82c4b915c35dfc6e39"
  },
  "kernelspec": {
   "display_name": "Python 3 (ipykernel)",
   "language": "python",
   "name": "python3"
  },
  "language_info": {
   "codemirror_mode": {
    "name": "ipython",
    "version": 3
   },
   "file_extension": ".py",
   "mimetype": "text/x-python",
   "name": "python",
   "nbconvert_exporter": "python",
   "pygments_lexer": "ipython3",
   "version": "3.10.0"
  }
 },
 "nbformat": 4,
 "nbformat_minor": 4
}
